{
  "nbformat": 4,
  "nbformat_minor": 0,
  "metadata": {
    "colab": {
      "name": "nlpTweets.ipynb",
      "provenance": [],
      "collapsed_sections": [],
      "authorship_tag": "ABX9TyNHGSmiZiMZZACAPFN/EidZ",
      "include_colab_link": true
    },
    "kernelspec": {
      "name": "python3",
      "display_name": "Python 3"
    },
    "language_info": {
      "name": "python"
    }
  },
  "cells": [
    {
      "cell_type": "markdown",
      "metadata": {
        "id": "view-in-github",
        "colab_type": "text"
      },
      "source": [
        "<a href=\"https://colab.research.google.com/github/EloiseDerham/NLP-tweet-classification/blob/main/nlpTweets.ipynb\" target=\"_parent\"><img src=\"https://colab.research.google.com/assets/colab-badge.svg\" alt=\"Open In Colab\"/></a>"
      ]
    },
    {
      "cell_type": "code",
      "metadata": {
        "id": "2-ZkszEesCTO"
      },
      "source": [
        "import numpy as np\n",
        "import pandas as pd\n",
        "import matplotlib.pyplot as plt\n",
        "import seaborn as sns\n",
        "import os\n",
        "import keras.utils\n",
        "\n",
        "from keras import models\n",
        "from keras import layers\n",
        "from keras.datasets import imdb\n",
        "import requests\n",
        "\n",
        "import nltk\n",
        "from nltk.corpus import stopwords\n",
        "from nltk.tokenize import TweetTokenizer\n",
        "from sklearn.feature_extraction.text import CountVectorizer\n",
        "from sklearn.feature_extraction.text import TfidfVectorizer\n",
        "from collections import Counter\n",
        "from wordcloud import WordCloud"
      ],
      "execution_count": null,
      "outputs": []
    },
    {
      "cell_type": "markdown",
      "metadata": {
        "id": "FIH3GXo0xdcj"
      },
      "source": [
        "Processing my collected tweets using nltk"
      ]
    },
    {
      "cell_type": "code",
      "metadata": {
        "colab": {
          "base_uri": "https://localhost:8080/",
          "height": 143
        },
        "id": "Mf_SAl9gJI02",
        "outputId": "47ad7031-c186-4934-f209-ac3fa5ff9b28"
      },
      "source": [
        "data = pd.read_csv('Tweets.csv', encoding='cp1252')\n",
        "data.head(3)"
      ],
      "execution_count": null,
      "outputs": [
        {
          "output_type": "execute_result",
          "data": {
            "text/html": [
              "\n",
              "  <div id=\"df-dc8eef4a-b087-4ebe-8270-098f2f5f3240\">\n",
              "    <div class=\"colab-df-container\">\n",
              "      <div>\n",
              "<style scoped>\n",
              "    .dataframe tbody tr th:only-of-type {\n",
              "        vertical-align: middle;\n",
              "    }\n",
              "\n",
              "    .dataframe tbody tr th {\n",
              "        vertical-align: top;\n",
              "    }\n",
              "\n",
              "    .dataframe thead th {\n",
              "        text-align: right;\n",
              "    }\n",
              "</style>\n",
              "<table border=\"1\" class=\"dataframe\">\n",
              "  <thead>\n",
              "    <tr style=\"text-align: right;\">\n",
              "      <th></th>\n",
              "      <th>id</th>\n",
              "      <th>label</th>\n",
              "      <th>tweet</th>\n",
              "    </tr>\n",
              "  </thead>\n",
              "  <tbody>\n",
              "    <tr>\n",
              "      <th>0</th>\n",
              "      <td>1</td>\n",
              "      <td>0</td>\n",
              "      <td>baking some cookies today</td>\n",
              "    </tr>\n",
              "    <tr>\n",
              "      <th>1</th>\n",
              "      <td>2</td>\n",
              "      <td>0</td>\n",
              "      <td>Our tween girls holiday cookie baking play dat...</td>\n",
              "    </tr>\n",
              "    <tr>\n",
              "      <th>2</th>\n",
              "      <td>3</td>\n",
              "      <td>0</td>\n",
              "      <td>Baking is frequently a team effort at the mona...</td>\n",
              "    </tr>\n",
              "  </tbody>\n",
              "</table>\n",
              "</div>\n",
              "      <button class=\"colab-df-convert\" onclick=\"convertToInteractive('df-dc8eef4a-b087-4ebe-8270-098f2f5f3240')\"\n",
              "              title=\"Convert this dataframe to an interactive table.\"\n",
              "              style=\"display:none;\">\n",
              "        \n",
              "  <svg xmlns=\"http://www.w3.org/2000/svg\" height=\"24px\"viewBox=\"0 0 24 24\"\n",
              "       width=\"24px\">\n",
              "    <path d=\"M0 0h24v24H0V0z\" fill=\"none\"/>\n",
              "    <path d=\"M18.56 5.44l.94 2.06.94-2.06 2.06-.94-2.06-.94-.94-2.06-.94 2.06-2.06.94zm-11 1L8.5 8.5l.94-2.06 2.06-.94-2.06-.94L8.5 2.5l-.94 2.06-2.06.94zm10 10l.94 2.06.94-2.06 2.06-.94-2.06-.94-.94-2.06-.94 2.06-2.06.94z\"/><path d=\"M17.41 7.96l-1.37-1.37c-.4-.4-.92-.59-1.43-.59-.52 0-1.04.2-1.43.59L10.3 9.45l-7.72 7.72c-.78.78-.78 2.05 0 2.83L4 21.41c.39.39.9.59 1.41.59.51 0 1.02-.2 1.41-.59l7.78-7.78 2.81-2.81c.8-.78.8-2.07 0-2.86zM5.41 20L4 18.59l7.72-7.72 1.47 1.35L5.41 20z\"/>\n",
              "  </svg>\n",
              "      </button>\n",
              "      \n",
              "  <style>\n",
              "    .colab-df-container {\n",
              "      display:flex;\n",
              "      flex-wrap:wrap;\n",
              "      gap: 12px;\n",
              "    }\n",
              "\n",
              "    .colab-df-convert {\n",
              "      background-color: #E8F0FE;\n",
              "      border: none;\n",
              "      border-radius: 50%;\n",
              "      cursor: pointer;\n",
              "      display: none;\n",
              "      fill: #1967D2;\n",
              "      height: 32px;\n",
              "      padding: 0 0 0 0;\n",
              "      width: 32px;\n",
              "    }\n",
              "\n",
              "    .colab-df-convert:hover {\n",
              "      background-color: #E2EBFA;\n",
              "      box-shadow: 0px 1px 2px rgba(60, 64, 67, 0.3), 0px 1px 3px 1px rgba(60, 64, 67, 0.15);\n",
              "      fill: #174EA6;\n",
              "    }\n",
              "\n",
              "    [theme=dark] .colab-df-convert {\n",
              "      background-color: #3B4455;\n",
              "      fill: #D2E3FC;\n",
              "    }\n",
              "\n",
              "    [theme=dark] .colab-df-convert:hover {\n",
              "      background-color: #434B5C;\n",
              "      box-shadow: 0px 1px 3px 1px rgba(0, 0, 0, 0.15);\n",
              "      filter: drop-shadow(0px 1px 2px rgba(0, 0, 0, 0.3));\n",
              "      fill: #FFFFFF;\n",
              "    }\n",
              "  </style>\n",
              "\n",
              "      <script>\n",
              "        const buttonEl =\n",
              "          document.querySelector('#df-dc8eef4a-b087-4ebe-8270-098f2f5f3240 button.colab-df-convert');\n",
              "        buttonEl.style.display =\n",
              "          google.colab.kernel.accessAllowed ? 'block' : 'none';\n",
              "\n",
              "        async function convertToInteractive(key) {\n",
              "          const element = document.querySelector('#df-dc8eef4a-b087-4ebe-8270-098f2f5f3240');\n",
              "          const dataTable =\n",
              "            await google.colab.kernel.invokeFunction('convertToInteractive',\n",
              "                                                     [key], {});\n",
              "          if (!dataTable) return;\n",
              "\n",
              "          const docLinkHtml = 'Like what you see? Visit the ' +\n",
              "            '<a target=\"_blank\" href=https://colab.research.google.com/notebooks/data_table.ipynb>data table notebook</a>'\n",
              "            + ' to learn more about interactive tables.';\n",
              "          element.innerHTML = '';\n",
              "          dataTable['output_type'] = 'display_data';\n",
              "          await google.colab.output.renderOutput(dataTable, element);\n",
              "          const docLink = document.createElement('div');\n",
              "          docLink.innerHTML = docLinkHtml;\n",
              "          element.appendChild(docLink);\n",
              "        }\n",
              "      </script>\n",
              "    </div>\n",
              "  </div>\n",
              "  "
            ],
            "text/plain": [
              "   id  label                                              tweet\n",
              "0   1      0                         baking some cookies today \n",
              "1   2      0  Our tween girls holiday cookie baking play dat...\n",
              "2   3      0  Baking is frequently a team effort at the mona..."
            ]
          },
          "metadata": {},
          "execution_count": 55
        }
      ]
    },
    {
      "cell_type": "code",
      "metadata": {
        "colab": {
          "base_uri": "https://localhost:8080/",
          "height": 278
        },
        "id": "aZo4OM3hLVCX",
        "outputId": "58830584-b165-41bb-c6da-16489fef9fbf"
      },
      "source": [
        "words_per_tweet = data.tweet.apply(lambda x: len(x.split(\" \")))\n",
        "words_per_tweet.hist(bins = 100);\n",
        "plt.xlabel(\"tweet length (words)\")\n",
        "plt.ylabel(\"frequency\")\n",
        "plt.show();"
      ],
      "execution_count": null,
      "outputs": [
        {
          "output_type": "display_data",
          "data": {
            "image/png": "[encoded data removed]",
            "text/plain": [
              "<Figure size 432x288 with 1 Axes>"
            ]
          },
          "metadata": {
            "needs_background": "light"
          }
        }
      ]
    },
    {
      "cell_type": "code",
      "metadata": {
        "colab": {
          "base_uri": "https://localhost:8080/"
        },
        "id": "ra8r9setNR_g",
        "outputId": "820f1038-b7bc-4bb2-9b99-d4656be8b4d5"
      },
      "source": [
        "print ('Average Words:', words_per_tweet.mean())"
      ],
      "execution_count": null,
      "outputs": [
        {
          "output_type": "stream",
          "name": "stdout",
          "text": [
            "Average Words: 22.72\n"
          ]
        }
      ]
    },
    {
      "cell_type": "code",
      "metadata": {
        "colab": {
          "base_uri": "https://localhost:8080/"
        },
        "id": "MDwB1-dlOle4",
        "outputId": "fc9ea2cb-1a5f-41eb-eda8-4379f330777e"
      },
      "source": [
        "pip install wordcloud"
      ],
      "execution_count": null,
      "outputs": [
        {
          "output_type": "stream",
          "name": "stdout",
          "text": [
            "Requirement already satisfied: wordcloud in /usr/local/lib/python3.7/dist-packages (1.5.0)\n",
            "Requirement already satisfied: numpy>=1.6.1 in /usr/local/lib/python3.7/dist-packages (from wordcloud) (1.19.5)\n",
            "Requirement already satisfied: pillow in /usr/local/lib/python3.7/dist-packages (from wordcloud) (7.1.2)\n"
          ]
        }
      ]
    },
    {
      "cell_type": "code",
      "metadata": {
        "colab": {
          "base_uri": "https://localhost:8080/",
          "height": 197
        },
        "id": "FB8q2ktCOsYQ",
        "outputId": "ff772015-c75c-4f20-f39f-8766d46ed930"
      },
      "source": [
        "word_cloud_text = ''.join(data['tweet'])\n",
        "wordcloud = WordCloud(max_font_size=100,\n",
        "                      max_words= 100,\n",
        "                      background_color=\"white\",\n",
        "                      scale = 10,\n",
        "                      width = 800,\n",
        "                      height = 400,).generate(word_cloud_text)\n",
        "plt.figure()\n",
        "plt.imshow(wordcloud)\n",
        "plt.axis(\"off\")\n",
        "plt.show()"
      ],
      "execution_count": null,
      "outputs": [
        {
          "output_type": "display_data",
          "data": {
            "image/png": "[encoded data removed]",
            "text/plain": [
              "<Figure size 432x288 with 1 Axes>"
            ]
          },
          "metadata": {
            "needs_background": "light"
          }
        }
      ]
    },
    {
      "cell_type": "markdown",
      "metadata": {
        "id": "W3CtDys2Ref2"
      },
      "source": [
        "above is a visualiseation of the collected text data can help to get an idea of the most important words within the dataset, unsuprisingly these are sport and baking.\n",
        "other interesting words are one that dont relate to the classifcation of the tweet such as anyonr or https, these are words we want to try to get rid of in the text cleaning process."
      ]
    },
    {
      "cell_type": "code",
      "metadata": {
        "colab": {
          "base_uri": "https://localhost:8080/"
        },
        "id": "YFlm8t63RyOk",
        "outputId": "5f9cde8f-56fa-4dc2-e232-4de41750475c"
      },
      "source": [
        "data['label'].value_counts()"
      ],
      "execution_count": null,
      "outputs": [
        {
          "output_type": "execute_result",
          "data": {
            "text/plain": [
              "1    25\n",
              "0    25\n",
              "Name: label, dtype: int64"
            ]
          },
          "metadata": {},
          "execution_count": 60
        }
      ]
    },
    {
      "cell_type": "markdown",
      "metadata": {
        "id": "TFHw-syzTdlw"
      },
      "source": [
        "as i made this dataset myself it has equal parts sports tweets as it does baking however in other datasets based on more realistic data this will not be the case value_counts() can give important information about the number of different labels within the dataset for example for a sentiment analysis dataset it could be the number of positibe vs negative reviews."
      ]
    },
    {
      "cell_type": "markdown",
      "metadata": {
        "id": "0ymB8tVXUC3k"
      },
      "source": [
        "Pre-processing steps:\n",
        "lower case words\n",
        "remove special characters  \n",
        "tweet tokenize\n",
        "remove stopwords\n",
        "stemming to simplify amount of words\n"
      ]
    },
    {
      "cell_type": "code",
      "metadata": {
        "id": "8hx2UAIST3Kx"
      },
      "source": [
        "data['tweet_processed'] = data['tweet'].str.lower()"
      ],
      "execution_count": null,
      "outputs": []
    },
    {
      "cell_type": "code",
      "metadata": {
        "colab": {
          "base_uri": "https://localhost:8080/"
        },
        "id": "EnITANKfY2jl",
        "outputId": "4a144d0f-2492-475f-d5f0-1fd939409583"
      },
      "source": [
        "nltk.download('punkt')\n",
        "from nltk import word_tokenize"
      ],
      "execution_count": null,
      "outputs": [
        {
          "output_type": "stream",
          "name": "stdout",
          "text": [
            "[nltk_data] Downloading package punkt to /root/nltk_data...\n",
            "[nltk_data]   Package punkt is already up-to-date!\n"
          ]
        }
      ]
    },
    {
      "cell_type": "code",
      "metadata": {
        "colab": {
          "base_uri": "https://localhost:8080/"
        },
        "id": "NBAzDDl4VtLZ",
        "outputId": "63c3fac1-a87e-4436-9eac-5abd98afed28"
      },
      "source": [
        "tt = TweetTokenizer()\n",
        "token_lists = [word_tokenize(each) for each in data['tweet_processed']]\n",
        "tokens = [item for sublist in token_lists for item in sublist]\n",
        "print(\"Number of unique tokens\",len(set(tokens)))\n",
        "\n",
        "Tweet_token_lists = [tt.tokenize(each) for each in data['tweet_processed']]\n",
        "tokens = [item for sublist in Tweet_token_lists for item in sublist]\n",
        "print(\"Number of unique tokens\",len(set(tokens)))"
      ],
      "execution_count": null,
      "outputs": [
        {
          "output_type": "stream",
          "name": "stdout",
          "text": [
            "Number of unique tokens 691\n",
            "Number of unique tokens 712\n"
          ]
        }
      ]
    },
    {
      "cell_type": "code",
      "metadata": {
        "colab": {
          "base_uri": "https://localhost:8080/"
        },
        "id": "yq5QpjCydyDQ",
        "outputId": "de83d633-bb86-4ece-b44c-055c61fbfd5f"
      },
      "source": [
        "data['tweet_processed'] = data['tweet_processed'].str.replace(r'[^a-z ]',' ')\n",
        "print('New Review')\n",
        "print(data['tweet_processed'][10])"
      ],
      "execution_count": null,
      "outputs": [
        {
          "output_type": "stream",
          "name": "stdout",
          "text": [
            "New Review\n",
            "today was the perfect day to help my nan with christmas baking   st in the oven  shortbread cookies  my job is to watch them so that they don t burn  i m going to share these with santa paws on christmas eve santa clauscookie  dogs  dogsoftwitter  christmas  baking  mondaymotivation\n"
          ]
        }
      ]
    },
    {
      "cell_type": "code",
      "metadata": {
        "colab": {
          "base_uri": "https://localhost:8080/"
        },
        "id": "DC4Vea6bgX0C",
        "outputId": "9b76b7fb-f8a7-4031-a1ac-d42a878d0ee3"
      },
      "source": [
        "token_lists = [word_tokenize(each) for each in data['tweet_processed']]\n",
        "tokens = [item for sublist in token_lists for item in sublist]\n",
        "print(\"Number of unique tokens\",len(set(tokens)))\n"
      ],
      "execution_count": null,
      "outputs": [
        {
          "output_type": "stream",
          "name": "stdout",
          "text": [
            "Number of unique tokens 686\n"
          ]
        }
      ]
    },
    {
      "cell_type": "code",
      "metadata": {
        "colab": {
          "base_uri": "https://localhost:8080/"
        },
        "id": "tjwDAoKWgktI",
        "outputId": "9598acb6-c7e7-40b5-9ed4-1c873a0f0609"
      },
      "source": [
        "from nltk.corpus import stopwords\n",
        "nltk.download('stopwords')\n",
        "\n",
        "noise_words = []\n",
        "eng_stop_words = stopwords.words('english')\n",
        "eng_stop_words\n"
      ],
      "execution_count": null,
      "outputs": [
        {
          "output_type": "stream",
          "name": "stdout",
          "text": [
            "[nltk_data] Downloading package stopwords to /root/nltk_data...\n",
            "[nltk_data]   Package stopwords is already up-to-date!\n"
          ]
        },
        {
          "output_type": "execute_result",
          "data": {
            "text/plain": [
              "['i',\n",
              " 'me',\n",
              " 'my',\n",
              " 'myself',\n",
              " 'we',\n",
              " 'our',\n",
              " 'ours',\n",
              " 'ourselves',\n",
              " 'you',\n",
              " \"you're\",\n",
              " \"you've\",\n",
              " \"you'll\",\n",
              " \"you'd\",\n",
              " 'your',\n",
              " 'yours',\n",
              " 'yourself',\n",
              " 'yourselves',\n",
              " 'he',\n",
              " 'him',\n",
              " 'his',\n",
              " 'himself',\n",
              " 'she',\n",
              " \"she's\",\n",
              " 'her',\n",
              " 'hers',\n",
              " 'herself',\n",
              " 'it',\n",
              " \"it's\",\n",
              " 'its',\n",
              " 'itself',\n",
              " 'they',\n",
              " 'them',\n",
              " 'their',\n",
              " 'theirs',\n",
              " 'themselves',\n",
              " 'what',\n",
              " 'which',\n",
              " 'who',\n",
              " 'whom',\n",
              " 'this',\n",
              " 'that',\n",
              " \"that'll\",\n",
              " 'these',\n",
              " 'those',\n",
              " 'am',\n",
              " 'is',\n",
              " 'are',\n",
              " 'was',\n",
              " 'were',\n",
              " 'be',\n",
              " 'been',\n",
              " 'being',\n",
              " 'have',\n",
              " 'has',\n",
              " 'had',\n",
              " 'having',\n",
              " 'do',\n",
              " 'does',\n",
              " 'did',\n",
              " 'doing',\n",
              " 'a',\n",
              " 'an',\n",
              " 'the',\n",
              " 'and',\n",
              " 'but',\n",
              " 'if',\n",
              " 'or',\n",
              " 'because',\n",
              " 'as',\n",
              " 'until',\n",
              " 'while',\n",
              " 'of',\n",
              " 'at',\n",
              " 'by',\n",
              " 'for',\n",
              " 'with',\n",
              " 'about',\n",
              " 'against',\n",
              " 'between',\n",
              " 'into',\n",
              " 'through',\n",
              " 'during',\n",
              " 'before',\n",
              " 'after',\n",
              " 'above',\n",
              " 'below',\n",
              " 'to',\n",
              " 'from',\n",
              " 'up',\n",
              " 'down',\n",
              " 'in',\n",
              " 'out',\n",
              " 'on',\n",
              " 'off',\n",
              " 'over',\n",
              " 'under',\n",
              " 'again',\n",
              " 'further',\n",
              " 'then',\n",
              " 'once',\n",
              " 'here',\n",
              " 'there',\n",
              " 'when',\n",
              " 'where',\n",
              " 'why',\n",
              " 'how',\n",
              " 'all',\n",
              " 'any',\n",
              " 'both',\n",
              " 'each',\n",
              " 'few',\n",
              " 'more',\n",
              " 'most',\n",
              " 'other',\n",
              " 'some',\n",
              " 'such',\n",
              " 'no',\n",
              " 'nor',\n",
              " 'not',\n",
              " 'only',\n",
              " 'own',\n",
              " 'same',\n",
              " 'so',\n",
              " 'than',\n",
              " 'too',\n",
              " 'very',\n",
              " 's',\n",
              " 't',\n",
              " 'can',\n",
              " 'will',\n",
              " 'just',\n",
              " 'don',\n",
              " \"don't\",\n",
              " 'should',\n",
              " \"should've\",\n",
              " 'now',\n",
              " 'd',\n",
              " 'll',\n",
              " 'm',\n",
              " 'o',\n",
              " 're',\n",
              " 've',\n",
              " 'y',\n",
              " 'ain',\n",
              " 'aren',\n",
              " \"aren't\",\n",
              " 'couldn',\n",
              " \"couldn't\",\n",
              " 'didn',\n",
              " \"didn't\",\n",
              " 'doesn',\n",
              " \"doesn't\",\n",
              " 'hadn',\n",
              " \"hadn't\",\n",
              " 'hasn',\n",
              " \"hasn't\",\n",
              " 'haven',\n",
              " \"haven't\",\n",
              " 'isn',\n",
              " \"isn't\",\n",
              " 'ma',\n",
              " 'mightn',\n",
              " \"mightn't\",\n",
              " 'mustn',\n",
              " \"mustn't\",\n",
              " 'needn',\n",
              " \"needn't\",\n",
              " 'shan',\n",
              " \"shan't\",\n",
              " 'shouldn',\n",
              " \"shouldn't\",\n",
              " 'wasn',\n",
              " \"wasn't\",\n",
              " 'weren',\n",
              " \"weren't\",\n",
              " 'won',\n",
              " \"won't\",\n",
              " 'wouldn',\n",
              " \"wouldn't\"]"
            ]
          },
          "metadata": {},
          "execution_count": 66
        }
      ]
    },
    {
      "cell_type": "code",
      "metadata": {
        "id": "qd790QFuidAZ"
      },
      "source": [
        "# sentence = data['tweet_processed'][0]\n",
        "# words = nltk.word_tokenize(sentence)\n",
        "\n",
        "def stopwords_removal(stop_words, sentence):\n",
        "  return[word for word in nltk.word_tokenize(sentence) if word not in stop_words]\n",
        "\n",
        "data['tweet_nonstop'] = data['tweet_processed'].apply(lambda row: stopwords_removal(eng_stop_words, row))"
      ],
      "execution_count": null,
      "outputs": []
    },
    {
      "cell_type": "code",
      "metadata": {
        "colab": {
          "base_uri": "https://localhost:8080/",
          "height": 1000
        },
        "id": "I0SAHztrowN0",
        "outputId": "2e5c088d-09ac-4812-ce3d-084e623a9059"
      },
      "source": [
        "data[['tweet_processed','tweet_nonstop']]"
      ],
      "execution_count": null,
      "outputs": [
        {
          "output_type": "execute_result",
          "data": {
            "text/html": [
              "\n",
              "  <div id=\"df-f69ee9ad-3205-4b89-bd7d-8d5820c643e2\">\n",
              "    <div class=\"colab-df-container\">\n",
              "      <div>\n",
              "<style scoped>\n",
              "    .dataframe tbody tr th:only-of-type {\n",
              "        vertical-align: middle;\n",
              "    }\n",
              "\n",
              "    .dataframe tbody tr th {\n",
              "        vertical-align: top;\n",
              "    }\n",
              "\n",
              "    .dataframe thead th {\n",
              "        text-align: right;\n",
              "    }\n",
              "</style>\n",
              "<table border=\"1\" class=\"dataframe\">\n",
              "  <thead>\n",
              "    <tr style=\"text-align: right;\">\n",
              "      <th></th>\n",
              "      <th>tweet_processed</th>\n",
              "      <th>tweet_nonstop</th>\n",
              "    </tr>\n",
              "  </thead>\n",
              "  <tbody>\n",
              "    <tr>\n",
              "      <th>0</th>\n",
              "      <td>baking some cookies today</td>\n",
              "      <td>[baking, cookies, today]</td>\n",
              "    </tr>\n",
              "    <tr>\n",
              "      <th>1</th>\n",
              "      <td>our tween girls holiday cookie baking play dat...</td>\n",
              "      <td>[tween, girls, holiday, cookie, baking, play, ...</td>\n",
              "    </tr>\n",
              "    <tr>\n",
              "      <th>2</th>\n",
              "      <td>baking is frequently a team effort at the mona...</td>\n",
              "      <td>[baking, frequently, team, effort, monastery, ...</td>\n",
              "    </tr>\n",
              "    <tr>\n",
              "      <th>3</th>\n",
              "      <td>christmas can be a stressful time when it come...</td>\n",
              "      <td>[christmas, stressful, time, comes, cooking, h...</td>\n",
              "    </tr>\n",
              "    <tr>\n",
              "      <th>4</th>\n",
              "      <td>has anyone else been baking today  i ve made l...</td>\n",
              "      <td>[anyone, else, baking, today, made, lots, yumm...</td>\n",
              "    </tr>\n",
              "    <tr>\n",
              "      <th>5</th>\n",
              "      <td>school of chocolate serves up major great brit...</td>\n",
              "      <td>[school, chocolate, serves, major, great, brit...</td>\n",
              "    </tr>\n",
              "    <tr>\n",
              "      <th>6</th>\n",
              "      <td>morning  i got up early and helped in the kitc...</td>\n",
              "      <td>[morning, got, early, helped, kitchen, make, s...</td>\n",
              "    </tr>\n",
              "    <tr>\n",
              "      <th>7</th>\n",
              "      <td>the maple frosting on these oatmeal cookies ta...</td>\n",
              "      <td>[maple, frosting, oatmeal, cookies, takes, ano...</td>\n",
              "    </tr>\n",
              "    <tr>\n",
              "      <th>8</th>\n",
              "      <td>anyone for a kidney cookie   anatomy  kidney  ...</td>\n",
              "      <td>[anyone, kidney, cookie, anatomy, kidney, baki...</td>\n",
              "    </tr>\n",
              "    <tr>\n",
              "      <th>9</th>\n",
              "      <td>over the weekend i gave my rye sourdough start...</td>\n",
              "      <td>[weekend, gave, rye, sourdough, starter, exerc...</td>\n",
              "    </tr>\n",
              "    <tr>\n",
              "      <th>10</th>\n",
              "      <td>today was the perfect day to help my nan with ...</td>\n",
              "      <td>[today, perfect, day, help, nan, christmas, ba...</td>\n",
              "    </tr>\n",
              "    <tr>\n",
              "      <th>11</th>\n",
              "      <td>here are some delicious festive cookie recipes...</td>\n",
              "      <td>[delicious, festive, cookie, recipes, recipes,...</td>\n",
              "    </tr>\n",
              "    <tr>\n",
              "      <th>12</th>\n",
              "      <td>who wants to lick the bowl   food  cooking  ba...</td>\n",
              "      <td>[wants, lick, bowl, food, cooking, baking, foo...</td>\n",
              "    </tr>\n",
              "    <tr>\n",
              "      <th>13</th>\n",
              "      <td>fresh bake during  stormbarra  bananabread ban...</td>\n",
              "      <td>[fresh, bake, stormbarra, bananabread, banana,...</td>\n",
              "    </tr>\n",
              "    <tr>\n",
              "      <th>14</th>\n",
              "      <td>tassies for my co workers   pecantassies  chri...</td>\n",
              "      <td>[tassies, co, workers, pecantassies, christmas...</td>\n",
              "    </tr>\n",
              "    <tr>\n",
              "      <th>15</th>\n",
              "      <td>smiling face with heart shaped eyes           ...</td>\n",
              "      <td>[smiling, face, heart, shaped, eyes, smiling, ...</td>\n",
              "    </tr>\n",
              "    <tr>\n",
              "      <th>16</th>\n",
              "      <td>frosting hack raising hands baking  cakes</td>\n",
              "      <td>[frosting, hack, raising, hands, baking, cakes]</td>\n",
              "    </tr>\n",
              "    <tr>\n",
              "      <th>17</th>\n",
              "      <td>baking chronicles continued tried my hand at p...</td>\n",
              "      <td>[baking, chronicles, continued, tried, hand, p...</td>\n",
              "    </tr>\n",
              "    <tr>\n",
              "      <th>18</th>\n",
              "      <td>year   have been baking biscuits this afternoo...</td>\n",
              "      <td>[year, baking, biscuits, afternoon, part, lear...</td>\n",
              "    </tr>\n",
              "    <tr>\n",
              "      <th>19</th>\n",
              "      <td>healthy is good  tasty is a must   cakeart  ch...</td>\n",
              "      <td>[healthy, good, tasty, must, cakeart, chocolat...</td>\n",
              "    </tr>\n",
              "    <tr>\n",
              "      <th>20</th>\n",
              "      <td>relaxing saturday full of baking cookiecupcake...</td>\n",
              "      <td>[relaxing, saturday, full, baking, cookiecupca...</td>\n",
              "    </tr>\n",
              "    <tr>\n",
              "      <th>21</th>\n",
              "      <td>my new illustration with some cute festive bak...</td>\n",
              "      <td>[new, illustration, cute, festive, baking]</td>\n",
              "    </tr>\n",
              "    <tr>\n",
              "      <th>22</th>\n",
              "      <td>fresh bake during  stormbarra  bananabread ban...</td>\n",
              "      <td>[fresh, bake, stormbarra, bananabread, banana,...</td>\n",
              "    </tr>\n",
              "    <tr>\n",
              "      <th>23</th>\n",
              "      <td>the cake was delicious  vegan too   food  dess...</td>\n",
              "      <td>[cake, delicious, vegan, food, dessert, foodie...</td>\n",
              "    </tr>\n",
              "    <tr>\n",
              "      <th>24</th>\n",
              "      <td>baked apple french toast  scrumptious recipe  ...</td>\n",
              "      <td>[baked, apple, french, toast, scrumptious, rec...</td>\n",
              "    </tr>\n",
              "    <tr>\n",
              "      <th>25</th>\n",
              "      <td>champions keep playing until they get it righ...</td>\n",
              "      <td>[champions, keep, playing, get, right, indiana...</td>\n",
              "    </tr>\n",
              "    <tr>\n",
              "      <th>26</th>\n",
              "      <td>what an epic battle crossed swords f h o  powe...</td>\n",
              "      <td>[epic, battle, crossed, swords, f, h, powerboa...</td>\n",
              "    </tr>\n",
              "    <tr>\n",
              "      <th>27</th>\n",
              "      <td>muscle massager provides comfortable massage e...</td>\n",
              "      <td>[muscle, massager, provides, comfortable, mass...</td>\n",
              "    </tr>\n",
              "    <tr>\n",
              "      <th>28</th>\n",
              "      <td>really excited to be given the opportunity to ...</td>\n",
              "      <td>[really, excited, given, opportunity, discuss,...</td>\n",
              "    </tr>\n",
              "    <tr>\n",
              "      <th>29</th>\n",
              "      <td>female protective clothing hold  co p l   body...</td>\n",
              "      <td>[female, protective, clothing, hold, co, p, l,...</td>\n",
              "    </tr>\n",
              "    <tr>\n",
              "      <th>30</th>\n",
              "      <td>rare  coincidence number      how many we at ...</td>\n",
              "      <td>[rare, coincidence, number, many, world, sport...</td>\n",
              "    </tr>\n",
              "    <tr>\n",
              "      <th>31</th>\n",
              "      <td>funding to develop  sport is an investment we ...</td>\n",
              "      <td>[funding, develop, sport, investment, make, na...</td>\n",
              "    </tr>\n",
              "    <tr>\n",
              "      <th>32</th>\n",
              "      <td>a nice throw back  keeping it moving   sport  ...</td>\n",
              "      <td>[nice, throw, back, keeping, moving, sport, mu...</td>\n",
              "    </tr>\n",
              "    <tr>\n",
              "      <th>33</th>\n",
              "      <td>some awe inspiring performances at the senior ...</td>\n",
              "      <td>[awe, inspiring, performances, senior, nationa...</td>\n",
              "    </tr>\n",
              "    <tr>\n",
              "      <th>34</th>\n",
              "      <td>perfect way to spend the morning man surfingwa...</td>\n",
              "      <td>[perfect, way, spend, morning, man, surfingwat...</td>\n",
              "    </tr>\n",
              "    <tr>\n",
              "      <th>35</th>\n",
              "      <td>chelsea boss tuchel admits going to zenit unde...</td>\n",
              "      <td>[chelsea, boss, tuchel, admits, going, zenit, ...</td>\n",
              "    </tr>\n",
              "    <tr>\n",
              "      <th>36</th>\n",
              "      <td>sport england ramps up implementation of new s...</td>\n",
              "      <td>[sport, england, ramps, implementation, new, s...</td>\n",
              "    </tr>\n",
              "    <tr>\n",
              "      <th>37</th>\n",
              "      <td>time trial  the perfect gift for your cycling ...</td>\n",
              "      <td>[time, trial, perfect, gift, cycling, mad, par...</td>\n",
              "    </tr>\n",
              "    <tr>\n",
              "      <th>38</th>\n",
              "      <td>kristian karlsson and mattias falck of  sweden...</td>\n",
              "      <td>[kristian, karlsson, mattias, falck, sweden, w...</td>\n",
              "    </tr>\n",
              "    <tr>\n",
              "      <th>39</th>\n",
              "      <td>for all those who are feeling lazy on a sunday...</td>\n",
              "      <td>[feeling, lazy, sunday, morning, lots, work, t...</td>\n",
              "    </tr>\n",
              "    <tr>\n",
              "      <th>40</th>\n",
              "      <td>pleased that i have today confirmed i will be ...</td>\n",
              "      <td>[pleased, today, confirmed, writing, second, e...</td>\n",
              "    </tr>\n",
              "    <tr>\n",
              "      <th>41</th>\n",
              "      <td>sport  sportoutfit unisex color screen fitnes...</td>\n",
              "      <td>[sport, sportoutfit, unisex, color, screen, fi...</td>\n",
              "    </tr>\n",
              "    <tr>\n",
              "      <th>42</th>\n",
              "      <td>the  erasmusplus  eusport calls      are open ...</td>\n",
              "      <td>[erasmusplus, eusport, calls, open, woman, swi...</td>\n",
              "    </tr>\n",
              "    <tr>\n",
              "      <th>43</th>\n",
              "      <td>manchester united manager ralf rangnick confir...</td>\n",
              "      <td>[manchester, united, manager, ralf, rangnick, ...</td>\n",
              "    </tr>\n",
              "    <tr>\n",
              "      <th>44</th>\n",
              "      <td>a night game at lane stadium is not only one o...</td>\n",
              "      <td>[night, game, lane, stadium, one, best, atmosp...</td>\n",
              "    </tr>\n",
              "    <tr>\n",
              "      <th>45</th>\n",
              "      <td>there s no such thing as a  dumb jock   to pla...</td>\n",
              "      <td>[thing, dumb, jock, play, professional, sports...</td>\n",
              "    </tr>\n",
              "    <tr>\n",
              "      <th>46</th>\n",
              "      <td>jude bellingham has received a fine from the g...</td>\n",
              "      <td>[jude, bellingham, received, fine, german, fa,...</td>\n",
              "    </tr>\n",
              "    <tr>\n",
              "      <th>47</th>\n",
              "      <td>whufc have confirmed kurt zouma sustained a h...</td>\n",
              "      <td>[whufc, confirmed, kurt, zouma, sustained, ham...</td>\n",
              "    </tr>\n",
              "    <tr>\n",
              "      <th>48</th>\n",
              "      <td>nufc begin removing sports direct branding fr...</td>\n",
              "      <td>[nufc, begin, removing, sports, direct, brandi...</td>\n",
              "    </tr>\n",
              "    <tr>\n",
              "      <th>49</th>\n",
              "      <td>i feel like i m in the boxing ring and i m re...</td>\n",
              "      <td>[feel, like, boxing, ring, ready, go, rivalrie...</td>\n",
              "    </tr>\n",
              "  </tbody>\n",
              "</table>\n",
              "</div>\n",
              "      <button class=\"colab-df-convert\" onclick=\"convertToInteractive('df-f69ee9ad-3205-4b89-bd7d-8d5820c643e2')\"\n",
              "              title=\"Convert this dataframe to an interactive table.\"\n",
              "              style=\"display:none;\">\n",
              "        \n",
              "  <svg xmlns=\"http://www.w3.org/2000/svg\" height=\"24px\"viewBox=\"0 0 24 24\"\n",
              "       width=\"24px\">\n",
              "    <path d=\"M0 0h24v24H0V0z\" fill=\"none\"/>\n",
              "    <path d=\"M18.56 5.44l.94 2.06.94-2.06 2.06-.94-2.06-.94-.94-2.06-.94 2.06-2.06.94zm-11 1L8.5 8.5l.94-2.06 2.06-.94-2.06-.94L8.5 2.5l-.94 2.06-2.06.94zm10 10l.94 2.06.94-2.06 2.06-.94-2.06-.94-.94-2.06-.94 2.06-2.06.94z\"/><path d=\"M17.41 7.96l-1.37-1.37c-.4-.4-.92-.59-1.43-.59-.52 0-1.04.2-1.43.59L10.3 9.45l-7.72 7.72c-.78.78-.78 2.05 0 2.83L4 21.41c.39.39.9.59 1.41.59.51 0 1.02-.2 1.41-.59l7.78-7.78 2.81-2.81c.8-.78.8-2.07 0-2.86zM5.41 20L4 18.59l7.72-7.72 1.47 1.35L5.41 20z\"/>\n",
              "  </svg>\n",
              "      </button>\n",
              "      \n",
              "  <style>\n",
              "    .colab-df-container {\n",
              "      display:flex;\n",
              "      flex-wrap:wrap;\n",
              "      gap: 12px;\n",
              "    }\n",
              "\n",
              "    .colab-df-convert {\n",
              "      background-color: #E8F0FE;\n",
              "      border: none;\n",
              "      border-radius: 50%;\n",
              "      cursor: pointer;\n",
              "      display: none;\n",
              "      fill: #1967D2;\n",
              "      height: 32px;\n",
              "      padding: 0 0 0 0;\n",
              "      width: 32px;\n",
              "    }\n",
              "\n",
              "    .colab-df-convert:hover {\n",
              "      background-color: #E2EBFA;\n",
              "      box-shadow: 0px 1px 2px rgba(60, 64, 67, 0.3), 0px 1px 3px 1px rgba(60, 64, 67, 0.15);\n",
              "      fill: #174EA6;\n",
              "    }\n",
              "\n",
              "    [theme=dark] .colab-df-convert {\n",
              "      background-color: #3B4455;\n",
              "      fill: #D2E3FC;\n",
              "    }\n",
              "\n",
              "    [theme=dark] .colab-df-convert:hover {\n",
              "      background-color: #434B5C;\n",
              "      box-shadow: 0px 1px 3px 1px rgba(0, 0, 0, 0.15);\n",
              "      filter: drop-shadow(0px 1px 2px rgba(0, 0, 0, 0.3));\n",
              "      fill: #FFFFFF;\n",
              "    }\n",
              "  </style>\n",
              "\n",
              "      <script>\n",
              "        const buttonEl =\n",
              "          document.querySelector('#df-f69ee9ad-3205-4b89-bd7d-8d5820c643e2 button.colab-df-convert');\n",
              "        buttonEl.style.display =\n",
              "          google.colab.kernel.accessAllowed ? 'block' : 'none';\n",
              "\n",
              "        async function convertToInteractive(key) {\n",
              "          const element = document.querySelector('#df-f69ee9ad-3205-4b89-bd7d-8d5820c643e2');\n",
              "          const dataTable =\n",
              "            await google.colab.kernel.invokeFunction('convertToInteractive',\n",
              "                                                     [key], {});\n",
              "          if (!dataTable) return;\n",
              "\n",
              "          const docLinkHtml = 'Like what you see? Visit the ' +\n",
              "            '<a target=\"_blank\" href=https://colab.research.google.com/notebooks/data_table.ipynb>data table notebook</a>'\n",
              "            + ' to learn more about interactive tables.';\n",
              "          element.innerHTML = '';\n",
              "          dataTable['output_type'] = 'display_data';\n",
              "          await google.colab.output.renderOutput(dataTable, element);\n",
              "          const docLink = document.createElement('div');\n",
              "          docLink.innerHTML = docLinkHtml;\n",
              "          element.appendChild(docLink);\n",
              "        }\n",
              "      </script>\n",
              "    </div>\n",
              "  </div>\n",
              "  "
            ],
            "text/plain": [
              "                                      tweet_processed                                      tweet_nonstop\n",
              "0                          baking some cookies today                            [baking, cookies, today]\n",
              "1   our tween girls holiday cookie baking play dat...  [tween, girls, holiday, cookie, baking, play, ...\n",
              "2   baking is frequently a team effort at the mona...  [baking, frequently, team, effort, monastery, ...\n",
              "3   christmas can be a stressful time when it come...  [christmas, stressful, time, comes, cooking, h...\n",
              "4   has anyone else been baking today  i ve made l...  [anyone, else, baking, today, made, lots, yumm...\n",
              "5   school of chocolate serves up major great brit...  [school, chocolate, serves, major, great, brit...\n",
              "6   morning  i got up early and helped in the kitc...  [morning, got, early, helped, kitchen, make, s...\n",
              "7   the maple frosting on these oatmeal cookies ta...  [maple, frosting, oatmeal, cookies, takes, ano...\n",
              "8   anyone for a kidney cookie   anatomy  kidney  ...  [anyone, kidney, cookie, anatomy, kidney, baki...\n",
              "9   over the weekend i gave my rye sourdough start...  [weekend, gave, rye, sourdough, starter, exerc...\n",
              "10  today was the perfect day to help my nan with ...  [today, perfect, day, help, nan, christmas, ba...\n",
              "11  here are some delicious festive cookie recipes...  [delicious, festive, cookie, recipes, recipes,...\n",
              "12  who wants to lick the bowl   food  cooking  ba...  [wants, lick, bowl, food, cooking, baking, foo...\n",
              "13  fresh bake during  stormbarra  bananabread ban...  [fresh, bake, stormbarra, bananabread, banana,...\n",
              "14  tassies for my co workers   pecantassies  chri...  [tassies, co, workers, pecantassies, christmas...\n",
              "15  smiling face with heart shaped eyes           ...  [smiling, face, heart, shaped, eyes, smiling, ...\n",
              "16          frosting hack raising hands baking  cakes    [frosting, hack, raising, hands, baking, cakes]\n",
              "17  baking chronicles continued tried my hand at p...  [baking, chronicles, continued, tried, hand, p...\n",
              "18  year   have been baking biscuits this afternoo...  [year, baking, biscuits, afternoon, part, lear...\n",
              "19  healthy is good  tasty is a must   cakeart  ch...  [healthy, good, tasty, must, cakeart, chocolat...\n",
              "20  relaxing saturday full of baking cookiecupcake...  [relaxing, saturday, full, baking, cookiecupca...\n",
              "21  my new illustration with some cute festive bak...         [new, illustration, cute, festive, baking]\n",
              "22  fresh bake during  stormbarra  bananabread ban...  [fresh, bake, stormbarra, bananabread, banana,...\n",
              "23  the cake was delicious  vegan too   food  dess...  [cake, delicious, vegan, food, dessert, foodie...\n",
              "24  baked apple french toast  scrumptious recipe  ...  [baked, apple, french, toast, scrumptious, rec...\n",
              "25   champions keep playing until they get it righ...  [champions, keep, playing, get, right, indiana...\n",
              "26  what an epic battle crossed swords f h o  powe...  [epic, battle, crossed, swords, f, h, powerboa...\n",
              "27  muscle massager provides comfortable massage e...  [muscle, massager, provides, comfortable, mass...\n",
              "28  really excited to be given the opportunity to ...  [really, excited, given, opportunity, discuss,...\n",
              "29  female protective clothing hold  co p l   body...  [female, protective, clothing, hold, co, p, l,...\n",
              "30   rare  coincidence number      how many we at ...  [rare, coincidence, number, many, world, sport...\n",
              "31  funding to develop  sport is an investment we ...  [funding, develop, sport, investment, make, na...\n",
              "32  a nice throw back  keeping it moving   sport  ...  [nice, throw, back, keeping, moving, sport, mu...\n",
              "33  some awe inspiring performances at the senior ...  [awe, inspiring, performances, senior, nationa...\n",
              "34  perfect way to spend the morning man surfingwa...  [perfect, way, spend, morning, man, surfingwat...\n",
              "35  chelsea boss tuchel admits going to zenit unde...  [chelsea, boss, tuchel, admits, going, zenit, ...\n",
              "36  sport england ramps up implementation of new s...  [sport, england, ramps, implementation, new, s...\n",
              "37  time trial  the perfect gift for your cycling ...  [time, trial, perfect, gift, cycling, mad, par...\n",
              "38  kristian karlsson and mattias falck of  sweden...  [kristian, karlsson, mattias, falck, sweden, w...\n",
              "39  for all those who are feeling lazy on a sunday...  [feeling, lazy, sunday, morning, lots, work, t...\n",
              "40  pleased that i have today confirmed i will be ...  [pleased, today, confirmed, writing, second, e...\n",
              "41   sport  sportoutfit unisex color screen fitnes...  [sport, sportoutfit, unisex, color, screen, fi...\n",
              "42  the  erasmusplus  eusport calls      are open ...  [erasmusplus, eusport, calls, open, woman, swi...\n",
              "43  manchester united manager ralf rangnick confir...  [manchester, united, manager, ralf, rangnick, ...\n",
              "44  a night game at lane stadium is not only one o...  [night, game, lane, stadium, one, best, atmosp...\n",
              "45  there s no such thing as a  dumb jock   to pla...  [thing, dumb, jock, play, professional, sports...\n",
              "46  jude bellingham has received a fine from the g...  [jude, bellingham, received, fine, german, fa,...\n",
              "47   whufc have confirmed kurt zouma sustained a h...  [whufc, confirmed, kurt, zouma, sustained, ham...\n",
              "48   nufc begin removing sports direct branding fr...  [nufc, begin, removing, sports, direct, brandi...\n",
              "49   i feel like i m in the boxing ring and i m re...  [feel, like, boxing, ring, ready, go, rivalrie..."
            ]
          },
          "metadata": {},
          "execution_count": 68
        }
      ]
    },
    {
      "cell_type": "code",
      "metadata": {
        "id": "0GwAGRbN5MIR"
      },
      "source": [
        ""
      ],
      "execution_count": null,
      "outputs": []
    },
    {
      "cell_type": "markdown",
      "source": [
        "stemming an lemmatiztion"
      ],
      "metadata": {
        "id": "affnctG0qD9Z"
      }
    },
    {
      "cell_type": "code",
      "source": [
        "nltk.download('wordnet')\n",
        "from nltk.stem import PorterStemmer, LancasterStemmer\n",
        "from nltk.stem import WordNetLemmatizer\n",
        "from nltk.corpus import wordnet"
      ],
      "metadata": {
        "colab": {
          "base_uri": "https://localhost:8080/"
        },
        "id": "9JcvM-dlqNN6",
        "outputId": "415c6d4b-773c-4699-c1c1-8cf4925bd3c2"
      },
      "execution_count": null,
      "outputs": [
        {
          "output_type": "stream",
          "name": "stdout",
          "text": [
            "[nltk_data] Downloading package wordnet to /root/nltk_data...\n",
            "[nltk_data]   Package wordnet is already up-to-date!\n"
          ]
        }
      ]
    },
    {
      "cell_type": "code",
      "source": [
        "bow_counts = CountVectorizer(tokenizer= word_tokenize,\n",
        "                             stop_words=noise_words,\n",
        "                             ngram_range=(1,1))\n",
        "bow_data = bow_counts.fit_transform(data['tweet'])\n"
      ],
      "metadata": {
        "id": "KQOl6mBSHEjL"
      },
      "execution_count": null,
      "outputs": []
    },
    {
      "cell_type": "code",
      "source": [
        "bow_data"
      ],
      "metadata": {
        "colab": {
          "base_uri": "https://localhost:8080/"
        },
        "id": "YQjULlEMClq1",
        "outputId": "9793027b-a065-461f-b0fb-9b6d3bd17d74"
      },
      "execution_count": null,
      "outputs": [
        {
          "output_type": "execute_result",
          "data": {
            "text/plain": [
              "<50x691 sparse matrix of type '<class 'numpy.int64'>'\n",
              "\twith 1211 stored elements in Compressed Sparse Row format>"
            ]
          },
          "metadata": {},
          "execution_count": 71
        }
      ]
    },
    {
      "cell_type": "code",
      "source": [
        "# from sklearn.feature_extraction.text import CountVectorizer\n",
        "\n",
        "# vec = CountVectorizer()\n",
        "# X = vec.fit_transform(data['tweet_nonstop'])\n",
        "# df = pd.DataFrame(X.toarray(), columns = vec.get_feature_names())\n",
        "# df.head()"
      ],
      "metadata": {
        "id": "knHHJ0oKC39m"
      },
      "execution_count": null,
      "outputs": []
    },
    {
      "cell_type": "code",
      "source": [
        "from sklearn.model_selection import train_test_split\n",
        "from sklearn.linear_model import LogisticRegression\n",
        "from sklearn.ensemble import RandomForestClassifier\n",
        "from sklearn.metrics import accuracy_score\n",
        "from sklearn.metrics import f1_score\n",
        "X_train_bow, X_test_bow, y_train_bow, y_test_bow = train_test_split(bow_data, # Features\n",
        "                                                                    data['label'], # Target variable\n",
        "                                                                    test_size = 0.2, # 20% test size\n",
        "                                                                    random_state = 0) # random state for replication purposes"
      ],
      "metadata": {
        "id": "WkY7NLvYHVPb"
      },
      "execution_count": null,
      "outputs": []
    },
    {
      "cell_type": "code",
      "source": [
        "y_test_bow.value_counts()/y_test_bow.shape[0]\n"
      ],
      "metadata": {
        "colab": {
          "base_uri": "https://localhost:8080/"
        },
        "id": "uotM0r88IHCz",
        "outputId": "33ab2ba2-ed77-4f58-d353-829ee5ecaafe"
      },
      "execution_count": null,
      "outputs": [
        {
          "output_type": "execute_result",
          "data": {
            "text/plain": [
              "1    0.5\n",
              "0    0.5\n",
              "Name: label, dtype: float64"
            ]
          },
          "metadata": {},
          "execution_count": 76
        }
      ]
    },
    {
      "cell_type": "code",
      "source": [
        "# Defining and training the model\n",
        "lr_model_all_new = LogisticRegression(max_iter = 200)\n",
        "lr_model_all_new.fit(X_train_bow, y_train_bow)\n",
        "\n",
        "# Predicting the results\n",
        "test_pred_lr_all = lr_model_all_new.predict(X_test_bow)\n",
        "\n",
        "print(\"F1 score: \", f1_score(y_test_bow,test_pred_lr_all))"
      ],
      "metadata": {
        "colab": {
          "base_uri": "https://localhost:8080/"
        },
        "id": "zTrgkEyEIRun",
        "outputId": "4d7072c5-e297-49cd-b816-c0c5ed60fdf3"
      },
      "execution_count": null,
      "outputs": [
        {
          "output_type": "stream",
          "name": "stdout",
          "text": [
            "F1 score:  1.0\n"
          ]
        }
      ]
    },
    {
      "cell_type": "code",
      "source": [
        "lr_weights = pd.DataFrame(list(zip(bow_counts.get_feature_names(), # ge tall the n-gram feature names\n",
        "                                   lr_model_all_new.coef_[0])), # get the logistic regression coefficients\n",
        "                          columns= ['words','weights']) # defining the colunm names\n",
        "\n",
        "lr_weights.sort_values(['weights'], ascending = False)[:15] # top-15 more important features for positive reviews"
      ],
      "metadata": {
        "colab": {
          "base_uri": "https://localhost:8080/",
          "height": 576
        },
        "id": "ekRJlIdwIqLI",
        "outputId": "3aca5781-59db-4ba1-f618-af2ae38c7730"
      },
      "execution_count": null,
      "outputs": [
        {
          "output_type": "stream",
          "name": "stderr",
          "text": [
            "/usr/local/lib/python3.7/dist-packages/sklearn/utils/deprecation.py:87: FutureWarning: Function get_feature_names is deprecated; get_feature_names is deprecated in 1.0 and will be removed in 1.2. Please use get_feature_names_out instead.\n",
            "  warnings.warn(msg, category=FutureWarning)\n"
          ]
        },
        {
          "output_type": "execute_result",
          "data": {
            "text/html": [
              "\n",
              "  <div id=\"df-b14ce75d-9f82-4d71-8666-4520c1871751\">\n",
              "    <div class=\"colab-df-container\">\n",
              "      <div>\n",
              "<style scoped>\n",
              "    .dataframe tbody tr th:only-of-type {\n",
              "        vertical-align: middle;\n",
              "    }\n",
              "\n",
              "    .dataframe tbody tr th {\n",
              "        vertical-align: top;\n",
              "    }\n",
              "\n",
              "    .dataframe thead th {\n",
              "        text-align: right;\n",
              "    }\n",
              "</style>\n",
              "<table border=\"1\" class=\"dataframe\">\n",
              "  <thead>\n",
              "    <tr style=\"text-align: right;\">\n",
              "      <th></th>\n",
              "      <th>words</th>\n",
              "      <th>weights</th>\n",
              "    </tr>\n",
              "  </thead>\n",
              "  <tbody>\n",
              "    <tr>\n",
              "      <th>550</th>\n",
              "      <td>sport</td>\n",
              "      <td>0.926572</td>\n",
              "    </tr>\n",
              "    <tr>\n",
              "      <th>605</th>\n",
              "      <td>to</td>\n",
              "      <td>0.316753</td>\n",
              "    </tr>\n",
              "    <tr>\n",
              "      <th>589</th>\n",
              "      <td>the</td>\n",
              "      <td>0.306516</td>\n",
              "    </tr>\n",
              "    <tr>\n",
              "      <th>73</th>\n",
              "      <td>at</td>\n",
              "      <td>0.290570</td>\n",
              "    </tr>\n",
              "    <tr>\n",
              "      <th>554</th>\n",
              "      <td>sports</td>\n",
              "      <td>0.275601</td>\n",
              "    </tr>\n",
              "    <tr>\n",
              "      <th>55</th>\n",
              "      <td>and</td>\n",
              "      <td>0.208807</td>\n",
              "    </tr>\n",
              "    <tr>\n",
              "      <th>687</th>\n",
              "      <td>’</td>\n",
              "      <td>0.197874</td>\n",
              "    </tr>\n",
              "    <tr>\n",
              "      <th>263</th>\n",
              "      <td>from</td>\n",
              "      <td>0.193202</td>\n",
              "    </tr>\n",
              "    <tr>\n",
              "      <th>294</th>\n",
              "      <td>have</td>\n",
              "      <td>0.186279</td>\n",
              "    </tr>\n",
              "    <tr>\n",
              "      <th>172</th>\n",
              "      <td>cycling</td>\n",
              "      <td>0.180972</td>\n",
              "    </tr>\n",
              "    <tr>\n",
              "      <th>689</th>\n",
              "      <td>”</td>\n",
              "      <td>0.170427</td>\n",
              "    </tr>\n",
              "    <tr>\n",
              "      <th>688</th>\n",
              "      <td>“</td>\n",
              "      <td>0.170427</td>\n",
              "    </tr>\n",
              "    <tr>\n",
              "      <th>156</th>\n",
              "      <td>confirmed</td>\n",
              "      <td>0.168119</td>\n",
              "    </tr>\n",
              "    <tr>\n",
              "      <th>129</th>\n",
              "      <td>chelsea</td>\n",
              "      <td>0.164330</td>\n",
              "    </tr>\n",
              "    <tr>\n",
              "      <th>40</th>\n",
              "      <td>a</td>\n",
              "      <td>0.154888</td>\n",
              "    </tr>\n",
              "  </tbody>\n",
              "</table>\n",
              "</div>\n",
              "      <button class=\"colab-df-convert\" onclick=\"convertToInteractive('df-b14ce75d-9f82-4d71-8666-4520c1871751')\"\n",
              "              title=\"Convert this dataframe to an interactive table.\"\n",
              "              style=\"display:none;\">\n",
              "        \n",
              "  <svg xmlns=\"http://www.w3.org/2000/svg\" height=\"24px\"viewBox=\"0 0 24 24\"\n",
              "       width=\"24px\">\n",
              "    <path d=\"M0 0h24v24H0V0z\" fill=\"none\"/>\n",
              "    <path d=\"M18.56 5.44l.94 2.06.94-2.06 2.06-.94-2.06-.94-.94-2.06-.94 2.06-2.06.94zm-11 1L8.5 8.5l.94-2.06 2.06-.94-2.06-.94L8.5 2.5l-.94 2.06-2.06.94zm10 10l.94 2.06.94-2.06 2.06-.94-2.06-.94-.94-2.06-.94 2.06-2.06.94z\"/><path d=\"M17.41 7.96l-1.37-1.37c-.4-.4-.92-.59-1.43-.59-.52 0-1.04.2-1.43.59L10.3 9.45l-7.72 7.72c-.78.78-.78 2.05 0 2.83L4 21.41c.39.39.9.59 1.41.59.51 0 1.02-.2 1.41-.59l7.78-7.78 2.81-2.81c.8-.78.8-2.07 0-2.86zM5.41 20L4 18.59l7.72-7.72 1.47 1.35L5.41 20z\"/>\n",
              "  </svg>\n",
              "      </button>\n",
              "      \n",
              "  <style>\n",
              "    .colab-df-container {\n",
              "      display:flex;\n",
              "      flex-wrap:wrap;\n",
              "      gap: 12px;\n",
              "    }\n",
              "\n",
              "    .colab-df-convert {\n",
              "      background-color: #E8F0FE;\n",
              "      border: none;\n",
              "      border-radius: 50%;\n",
              "      cursor: pointer;\n",
              "      display: none;\n",
              "      fill: #1967D2;\n",
              "      height: 32px;\n",
              "      padding: 0 0 0 0;\n",
              "      width: 32px;\n",
              "    }\n",
              "\n",
              "    .colab-df-convert:hover {\n",
              "      background-color: #E2EBFA;\n",
              "      box-shadow: 0px 1px 2px rgba(60, 64, 67, 0.3), 0px 1px 3px 1px rgba(60, 64, 67, 0.15);\n",
              "      fill: #174EA6;\n",
              "    }\n",
              "\n",
              "    [theme=dark] .colab-df-convert {\n",
              "      background-color: #3B4455;\n",
              "      fill: #D2E3FC;\n",
              "    }\n",
              "\n",
              "    [theme=dark] .colab-df-convert:hover {\n",
              "      background-color: #434B5C;\n",
              "      box-shadow: 0px 1px 3px 1px rgba(0, 0, 0, 0.15);\n",
              "      filter: drop-shadow(0px 1px 2px rgba(0, 0, 0, 0.3));\n",
              "      fill: #FFFFFF;\n",
              "    }\n",
              "  </style>\n",
              "\n",
              "      <script>\n",
              "        const buttonEl =\n",
              "          document.querySelector('#df-b14ce75d-9f82-4d71-8666-4520c1871751 button.colab-df-convert');\n",
              "        buttonEl.style.display =\n",
              "          google.colab.kernel.accessAllowed ? 'block' : 'none';\n",
              "\n",
              "        async function convertToInteractive(key) {\n",
              "          const element = document.querySelector('#df-b14ce75d-9f82-4d71-8666-4520c1871751');\n",
              "          const dataTable =\n",
              "            await google.colab.kernel.invokeFunction('convertToInteractive',\n",
              "                                                     [key], {});\n",
              "          if (!dataTable) return;\n",
              "\n",
              "          const docLinkHtml = 'Like what you see? Visit the ' +\n",
              "            '<a target=\"_blank\" href=https://colab.research.google.com/notebooks/data_table.ipynb>data table notebook</a>'\n",
              "            + ' to learn more about interactive tables.';\n",
              "          element.innerHTML = '';\n",
              "          dataTable['output_type'] = 'display_data';\n",
              "          await google.colab.output.renderOutput(dataTable, element);\n",
              "          const docLink = document.createElement('div');\n",
              "          docLink.innerHTML = docLinkHtml;\n",
              "          element.appendChild(docLink);\n",
              "        }\n",
              "      </script>\n",
              "    </div>\n",
              "  </div>\n",
              "  "
            ],
            "text/plain": [
              "         words   weights\n",
              "550      sport  0.926572\n",
              "605         to  0.316753\n",
              "589        the  0.306516\n",
              "73          at  0.290570\n",
              "554     sports  0.275601\n",
              "55         and  0.208807\n",
              "687          ’  0.197874\n",
              "263       from  0.193202\n",
              "294       have  0.186279\n",
              "172    cycling  0.180972\n",
              "689          ”  0.170427\n",
              "688          “  0.170427\n",
              "156  confirmed  0.168119\n",
              "129    chelsea  0.164330\n",
              "40           a  0.154888"
            ]
          },
          "metadata": {},
          "execution_count": 78
        }
      ]
    },
    {
      "cell_type": "code",
      "source": [
        "lr_weights.sort_values(['weights'], ascending = False)[-15:] # top-15 more important features for negative reviews\n"
      ],
      "metadata": {
        "colab": {
          "base_uri": "https://localhost:8080/",
          "height": 520
        },
        "id": "yvWvACMXI3Wy",
        "outputId": "ef41ac28-53bc-4e48-e17b-5a6e532f9bac"
      },
      "execution_count": null,
      "outputs": [
        {
          "output_type": "execute_result",
          "data": {
            "text/html": [
              "\n",
              "  <div id=\"df-46b62fb5-0746-40a9-b9b9-657ffe49a2a4\">\n",
              "    <div class=\"colab-df-container\">\n",
              "      <div>\n",
              "<style scoped>\n",
              "    .dataframe tbody tr th:only-of-type {\n",
              "        vertical-align: middle;\n",
              "    }\n",
              "\n",
              "    .dataframe tbody tr th {\n",
              "        vertical-align: top;\n",
              "    }\n",
              "\n",
              "    .dataframe thead th {\n",
              "        text-align: right;\n",
              "    }\n",
              "</style>\n",
              "<table border=\"1\" class=\"dataframe\">\n",
              "  <thead>\n",
              "    <tr style=\"text-align: right;\">\n",
              "      <th></th>\n",
              "      <th>words</th>\n",
              "      <th>weights</th>\n",
              "    </tr>\n",
              "  </thead>\n",
              "  <tbody>\n",
              "    <tr>\n",
              "      <th>544</th>\n",
              "      <td>some</td>\n",
              "      <td>-0.180001</td>\n",
              "    </tr>\n",
              "    <tr>\n",
              "      <th>496</th>\n",
              "      <td>recipe</td>\n",
              "      <td>-0.181595</td>\n",
              "    </tr>\n",
              "    <tr>\n",
              "      <th>350</th>\n",
              "      <td>kidney</td>\n",
              "      <td>-0.188325</td>\n",
              "    </tr>\n",
              "    <tr>\n",
              "      <th>337</th>\n",
              "      <td>is</td>\n",
              "      <td>-0.189220</td>\n",
              "    </tr>\n",
              "    <tr>\n",
              "      <th>164</th>\n",
              "      <td>cooking</td>\n",
              "      <td>-0.197039</td>\n",
              "    </tr>\n",
              "    <tr>\n",
              "      <th>78</th>\n",
              "      <td>bake</td>\n",
              "      <td>-0.197170</td>\n",
              "    </tr>\n",
              "    <tr>\n",
              "      <th>122</th>\n",
              "      <td>cakes</td>\n",
              "      <td>-0.202806</td>\n",
              "    </tr>\n",
              "    <tr>\n",
              "      <th>163</th>\n",
              "      <td>cookies</td>\n",
              "      <td>-0.206115</td>\n",
              "    </tr>\n",
              "    <tr>\n",
              "      <th>183</th>\n",
              "      <td>delicious</td>\n",
              "      <td>-0.212227</td>\n",
              "    </tr>\n",
              "    <tr>\n",
              "      <th>645</th>\n",
              "      <td>was</td>\n",
              "      <td>-0.215564</td>\n",
              "    </tr>\n",
              "    <tr>\n",
              "      <th>0</th>\n",
              "      <td>!</td>\n",
              "      <td>-0.216238</td>\n",
              "    </tr>\n",
              "    <tr>\n",
              "      <th>10</th>\n",
              "      <td>,</td>\n",
              "      <td>-0.254490</td>\n",
              "    </tr>\n",
              "    <tr>\n",
              "      <th>414</th>\n",
              "      <td>my</td>\n",
              "      <td>-0.269233</td>\n",
              "    </tr>\n",
              "    <tr>\n",
              "      <th>130</th>\n",
              "      <td>chocolate</td>\n",
              "      <td>-0.304301</td>\n",
              "    </tr>\n",
              "    <tr>\n",
              "      <th>83</th>\n",
              "      <td>baking</td>\n",
              "      <td>-1.372868</td>\n",
              "    </tr>\n",
              "  </tbody>\n",
              "</table>\n",
              "</div>\n",
              "      <button class=\"colab-df-convert\" onclick=\"convertToInteractive('df-46b62fb5-0746-40a9-b9b9-657ffe49a2a4')\"\n",
              "              title=\"Convert this dataframe to an interactive table.\"\n",
              "              style=\"display:none;\">\n",
              "        \n",
              "  <svg xmlns=\"http://www.w3.org/2000/svg\" height=\"24px\"viewBox=\"0 0 24 24\"\n",
              "       width=\"24px\">\n",
              "    <path d=\"M0 0h24v24H0V0z\" fill=\"none\"/>\n",
              "    <path d=\"M18.56 5.44l.94 2.06.94-2.06 2.06-.94-2.06-.94-.94-2.06-.94 2.06-2.06.94zm-11 1L8.5 8.5l.94-2.06 2.06-.94-2.06-.94L8.5 2.5l-.94 2.06-2.06.94zm10 10l.94 2.06.94-2.06 2.06-.94-2.06-.94-.94-2.06-.94 2.06-2.06.94z\"/><path d=\"M17.41 7.96l-1.37-1.37c-.4-.4-.92-.59-1.43-.59-.52 0-1.04.2-1.43.59L10.3 9.45l-7.72 7.72c-.78.78-.78 2.05 0 2.83L4 21.41c.39.39.9.59 1.41.59.51 0 1.02-.2 1.41-.59l7.78-7.78 2.81-2.81c.8-.78.8-2.07 0-2.86zM5.41 20L4 18.59l7.72-7.72 1.47 1.35L5.41 20z\"/>\n",
              "  </svg>\n",
              "      </button>\n",
              "      \n",
              "  <style>\n",
              "    .colab-df-container {\n",
              "      display:flex;\n",
              "      flex-wrap:wrap;\n",
              "      gap: 12px;\n",
              "    }\n",
              "\n",
              "    .colab-df-convert {\n",
              "      background-color: #E8F0FE;\n",
              "      border: none;\n",
              "      border-radius: 50%;\n",
              "      cursor: pointer;\n",
              "      display: none;\n",
              "      fill: #1967D2;\n",
              "      height: 32px;\n",
              "      padding: 0 0 0 0;\n",
              "      width: 32px;\n",
              "    }\n",
              "\n",
              "    .colab-df-convert:hover {\n",
              "      background-color: #E2EBFA;\n",
              "      box-shadow: 0px 1px 2px rgba(60, 64, 67, 0.3), 0px 1px 3px 1px rgba(60, 64, 67, 0.15);\n",
              "      fill: #174EA6;\n",
              "    }\n",
              "\n",
              "    [theme=dark] .colab-df-convert {\n",
              "      background-color: #3B4455;\n",
              "      fill: #D2E3FC;\n",
              "    }\n",
              "\n",
              "    [theme=dark] .colab-df-convert:hover {\n",
              "      background-color: #434B5C;\n",
              "      box-shadow: 0px 1px 3px 1px rgba(0, 0, 0, 0.15);\n",
              "      filter: drop-shadow(0px 1px 2px rgba(0, 0, 0, 0.3));\n",
              "      fill: #FFFFFF;\n",
              "    }\n",
              "  </style>\n",
              "\n",
              "      <script>\n",
              "        const buttonEl =\n",
              "          document.querySelector('#df-46b62fb5-0746-40a9-b9b9-657ffe49a2a4 button.colab-df-convert');\n",
              "        buttonEl.style.display =\n",
              "          google.colab.kernel.accessAllowed ? 'block' : 'none';\n",
              "\n",
              "        async function convertToInteractive(key) {\n",
              "          const element = document.querySelector('#df-46b62fb5-0746-40a9-b9b9-657ffe49a2a4');\n",
              "          const dataTable =\n",
              "            await google.colab.kernel.invokeFunction('convertToInteractive',\n",
              "                                                     [key], {});\n",
              "          if (!dataTable) return;\n",
              "\n",
              "          const docLinkHtml = 'Like what you see? Visit the ' +\n",
              "            '<a target=\"_blank\" href=https://colab.research.google.com/notebooks/data_table.ipynb>data table notebook</a>'\n",
              "            + ' to learn more about interactive tables.';\n",
              "          element.innerHTML = '';\n",
              "          dataTable['output_type'] = 'display_data';\n",
              "          await google.colab.output.renderOutput(dataTable, element);\n",
              "          const docLink = document.createElement('div');\n",
              "          docLink.innerHTML = docLinkHtml;\n",
              "          element.appendChild(docLink);\n",
              "        }\n",
              "      </script>\n",
              "    </div>\n",
              "  </div>\n",
              "  "
            ],
            "text/plain": [
              "         words   weights\n",
              "544       some -0.180001\n",
              "496     recipe -0.181595\n",
              "350     kidney -0.188325\n",
              "337         is -0.189220\n",
              "164    cooking -0.197039\n",
              "78        bake -0.197170\n",
              "122      cakes -0.202806\n",
              "163    cookies -0.206115\n",
              "183  delicious -0.212227\n",
              "645        was -0.215564\n",
              "0            ! -0.216238\n",
              "10           , -0.254490\n",
              "414         my -0.269233\n",
              "130  chocolate -0.304301\n",
              "83      baking -1.372868"
            ]
          },
          "metadata": {},
          "execution_count": 79
        }
      ]
    },
    {
      "cell_type": "code",
      "source": [
        "from sklearn.feature_extraction.text import TfidfVectorizer\n",
        "\n",
        "### Creating a python object of the class CountVectorizer\n",
        "tfidf_counts = TfidfVectorizer(tokenizer= word_tokenize, # type of tokenization\n",
        "                               stop_words=noise_words, # List of stopwords\n",
        "                               ngram_range=(1,1)) # number of n-grams\n",
        "\n",
        "tfidf_data = tfidf_counts.fit_transform(data['tweet'])"
      ],
      "metadata": {
        "id": "7c_8PkxFJiCI"
      },
      "execution_count": null,
      "outputs": []
    },
    {
      "cell_type": "code",
      "source": [
        "tfidf_data"
      ],
      "metadata": {
        "colab": {
          "base_uri": "https://localhost:8080/"
        },
        "id": "MehdxMtnJrK1",
        "outputId": "6222337d-83fc-4371-d0e7-3dac4099c3a7"
      },
      "execution_count": null,
      "outputs": [
        {
          "output_type": "execute_result",
          "data": {
            "text/plain": [
              "<50x691 sparse matrix of type '<class 'numpy.float64'>'\n",
              "\twith 1211 stored elements in Compressed Sparse Row format>"
            ]
          },
          "metadata": {},
          "execution_count": 83
        }
      ]
    },
    {
      "cell_type": "code",
      "source": [
        "X_train_tfidf, X_test_tfidf, y_train_tfidf, y_test_tfidf = train_test_split(tfidf_data,\n",
        "                                                                            data['label'],\n",
        "                                                                            test_size = 0.2,\n",
        "                                                                            random_state = 0)"
      ],
      "metadata": {
        "id": "7_0FrkTeJvms"
      },
      "execution_count": null,
      "outputs": []
    },
    {
      "cell_type": "code",
      "source": [
        "### Setting up the model class\n",
        "lr_model_tf_idf = LogisticRegression()\n",
        "\n",
        "## Training the model \n",
        "lr_model_tf_idf.fit(X_train_tfidf,y_train_tfidf)\n",
        "\n",
        "## Prediciting the results\n",
        "test_pred_lr_all = lr_model_tf_idf.predict(X_test_tfidf)\n",
        "\n",
        "## Evaluating the model\n",
        "print(\"F1 score: \",f1_score(y_test_bow, test_pred_lr_all))"
      ],
      "metadata": {
        "colab": {
          "base_uri": "https://localhost:8080/"
        },
        "id": "FrbpTtN_J39m",
        "outputId": "46380671-531a-4918-c38a-f24f7a2c6c23"
      },
      "execution_count": null,
      "outputs": [
        {
          "output_type": "stream",
          "name": "stdout",
          "text": [
            "F1 score:  1.0\n"
          ]
        }
      ]
    },
    {
      "cell_type": "code",
      "source": [
        ""
      ],
      "metadata": {
        "id": "1Xt6yDH-KIgi"
      },
      "execution_count": null,
      "outputs": []
    }
  ]
}